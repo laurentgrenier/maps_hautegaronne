{
 "cells": [
  {
   "cell_type": "markdown",
   "metadata": {},
   "source": [
    "# Prepare companies Sirene registry"
   ]
  },
  {
   "cell_type": "markdown",
   "metadata": {},
   "source": [
    "## Imports"
   ]
  },
  {
   "cell_type": "code",
   "execution_count": 9,
   "metadata": {},
   "outputs": [
    {
     "data": {
      "text/html": [
       "<style>.container { width:1280px !important; }</style>"
      ],
      "text/plain": [
       "<IPython.core.display.HTML object>"
      ]
     },
     "metadata": {},
     "output_type": "display_data"
    },
    {
     "data": {
      "text/html": [
       "<style>.container { width:1280px !important; }</style>"
      ],
      "text/plain": [
       "<IPython.core.display.HTML object>"
      ]
     },
     "metadata": {},
     "output_type": "display_data"
    },
    {
     "name": "stdout",
     "output_type": "stream",
     "text": [
      "df_communes_haute_garonne: 586 communes\n"
     ]
    }
   ],
   "source": [
    "%run \"../config/notebook.ipynb\"\n",
    "%run \"../config/files.ipynb\"\n",
    "%run \"../utils/stop_execution.ipynb\"\n",
    "\n",
    "# import communes of the Haute-Garonne\n",
    "%run \"../prepare/prepare_communes_hautegaronne.ipynb\"\n",
    "\n",
    "import pandas as pd\n",
    "import numpy as np"
   ]
  },
  {
   "cell_type": "markdown",
   "metadata": {},
   "source": [
    "## Read from cache"
   ]
  },
  {
   "cell_type": "code",
   "execution_count": 10,
   "metadata": {},
   "outputs": [],
   "source": [
    "if 'FROM_CACHE' in locals() or 'FROM_CACHE' in globals():\n",
    "    if FROM_CACHE:\n",
    "        df_sirenes = pd.read_csv(PREPARED_SIRENES_HAUTEGARONNE_FILE_PATH, index_col=['postalcode', 'siret'])\n",
    "        print(\"(from cache) df_sirenes: {} companies\".format(len(df_sirenes.index)))        \n",
    "        raise StopExecution"
   ]
  },
  {
   "cell_type": "markdown",
   "metadata": {},
   "source": [
    "## Create the sirene dataframe"
   ]
  },
  {
   "cell_type": "markdown",
   "metadata": {},
   "source": [
    " ### Read the sirene csv file"
   ]
  },
  {
   "cell_type": "code",
   "execution_count": 11,
   "metadata": {
    "scrolled": true
   },
   "outputs": [],
   "source": [
    "# keep only columns\n",
    "#  0   siren                          int64  \n",
    "#  2   siret                          int64  \n",
    "#  4   dateCreationEtablissement      object \n",
    "#  16   trancheEffectifsEtablissement  object \n",
    "#  20   codePostalEtablissement        float64\n",
    "#  5   codeCommuneEtablissement        object\n",
    "df_sirenes = pd.read_csv(COMPANIES_STATISTICS_FILE_PATH, usecols=[0,2,4,16,20,5], \\\n",
    "                         dtype={'siren': np.int64, \\\n",
    "                               'siret': np.int64, \\\n",
    "                               'dateCreationEtablissement': np.str, \\\n",
    "                               'trancheEffectifsEtablissement': np.str, \\\n",
    "                               'codePostalEtablissement': np.str, \\\n",
    "                               'codeCommuneEtablissement': np.str})"
   ]
  },
  {
   "cell_type": "markdown",
   "metadata": {},
   "source": [
    "### Rename columns"
   ]
  },
  {
   "cell_type": "code",
   "execution_count": 12,
   "metadata": {},
   "outputs": [],
   "source": [
    "df_sirenes.columns = ['siren', 'siret', 'creation_date', 'staffing_range', 'postalcode', 'commune_code']"
   ]
  },
  {
   "cell_type": "markdown",
   "metadata": {},
   "source": [
    "### Add a creation_year column"
   ]
  },
  {
   "cell_type": "code",
   "execution_count": 13,
   "metadata": {},
   "outputs": [],
   "source": [
    "df_sirenes['year'] = df_sirenes['creation_date'].apply(lambda d: str(d).split('-')[0])"
   ]
  },
  {
   "cell_type": "markdown",
   "metadata": {},
   "source": [
    "### Filter on Haute-Garonne communes"
   ]
  },
  {
   "cell_type": "code",
   "execution_count": 14,
   "metadata": {},
   "outputs": [],
   "source": [
    "# set temporarily the index on commune_code\n",
    "df_sirenes = df_sirenes.set_index('commune_code')"
   ]
  },
  {
   "cell_type": "code",
   "execution_count": 15,
   "metadata": {},
   "outputs": [],
   "source": [
    "# join with the Haute-Garonne communes\n",
    "df_sirenes = df_sirenes.join(df_communes_haute_garonne, how='inner')"
   ]
  },
  {
   "cell_type": "code",
   "execution_count": 16,
   "metadata": {},
   "outputs": [],
   "source": [
    "# restore a no-index state\n",
    "df_sirenes = df_sirenes.reset_index()"
   ]
  },
  {
   "cell_type": "markdown",
   "metadata": {},
   "source": [
    "### Remove unused columns"
   ]
  },
  {
   "cell_type": "code",
   "execution_count": 19,
   "metadata": {},
   "outputs": [],
   "source": [
    "df_sirenes = df_sirenes.drop(['index'], axis=1)"
   ]
  },
  {
   "cell_type": "markdown",
   "metadata": {},
   "source": [
    "### Set the index"
   ]
  },
  {
   "cell_type": "code",
   "execution_count": null,
   "metadata": {},
   "outputs": [],
   "source": [
    "df_sirenes = df_sirenes.set_index(['postalcode', 'siret'])"
   ]
  },
  {
   "cell_type": "markdown",
   "metadata": {},
   "source": [
    "### Save the dataframe"
   ]
  },
  {
   "cell_type": "code",
   "execution_count": 20,
   "metadata": {},
   "outputs": [
    {
     "name": "stdout",
     "output_type": "stream",
     "text": [
      "df_sirenes: 598958 companies\n"
     ]
    }
   ],
   "source": [
    "df_sirenes.to_csv(PREPARED_SIRENES_HAUTEGARONNE_FILE_PATH)\n",
    "print(\"df_sirenes: {} companies\".format(len(df_sirenes.index)))"
   ]
  },
  {
   "cell_type": "code",
   "execution_count": null,
   "metadata": {},
   "outputs": [],
   "source": []
  }
 ],
 "metadata": {
  "kernelspec": {
   "display_name": "Python 3",
   "language": "python",
   "name": "python3"
  },
  "language_info": {
   "codemirror_mode": {
    "name": "ipython",
    "version": 3
   },
   "file_extension": ".py",
   "mimetype": "text/x-python",
   "name": "python",
   "nbconvert_exporter": "python",
   "pygments_lexer": "ipython3",
   "version": "3.6.8"
  }
 },
 "nbformat": 4,
 "nbformat_minor": 4
}
