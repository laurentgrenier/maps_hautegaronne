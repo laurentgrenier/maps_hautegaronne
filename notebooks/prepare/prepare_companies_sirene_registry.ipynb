{
 "cells": [
  {
   "cell_type": "markdown",
   "metadata": {},
   "source": [
    "# Prepare Haute-Garonne Sirene registry"
   ]
  },
  {
   "cell_type": "markdown",
   "metadata": {},
   "source": [
    "## Imports"
   ]
  },
  {
   "cell_type": "code",
   "execution_count": 4,
   "metadata": {
    "scrolled": true
   },
   "outputs": [
    {
     "data": {
      "text/html": [
       "<style>.container { width:1280px !important; }</style>"
      ],
      "text/plain": [
       "<IPython.core.display.HTML object>"
      ]
     },
     "metadata": {},
     "output_type": "display_data"
    },
    {
     "data": {
      "text/html": [
       "<style>.container { width:1280px !important; }</style>"
      ],
      "text/plain": [
       "<IPython.core.display.HTML object>"
      ]
     },
     "metadata": {},
     "output_type": "display_data"
    },
    {
     "name": "stdout",
     "output_type": "stream",
     "text": [
      "df_hautegaronne_townships: 578 townships entries\n"
     ]
    }
   ],
   "source": [
    "%run \"../config/notebook.ipynb\"\n",
    "%run \"../config/files.ipynb\"\n",
    "%run \"../utils/stop_execution.ipynb\"\n",
    "\n",
    "# import communes of the Haute-Garonne\n",
    "%run \"../prepare/prepare_townships_hautegaronne.ipynb\"\n",
    "\n",
    "import pandas as pd\n",
    "import numpy as np"
   ]
  },
  {
   "cell_type": "markdown",
   "metadata": {},
   "source": [
    "## Read from cache"
   ]
  },
  {
   "cell_type": "code",
   "execution_count": 5,
   "metadata": {},
   "outputs": [],
   "source": [
    "if 'FROM_CACHE' in locals() or 'FROM_CACHE' in globals():\n",
    "    if FROM_CACHE:\n",
    "        df_sirenes_hautegaronne = pd.read_csv(PREPARED_SIRENES_HAUTEGARONNE_FILE_PATH, index_col=['siret'])\n",
    "        print(\"(from cache) df_sirenes_hautegaronne: {} companies\".format(len(df_sirenes_hautegaronne.index)))        \n",
    "        raise StopExecution"
   ]
  },
  {
   "cell_type": "markdown",
   "metadata": {},
   "source": [
    "## Create the sirene dataframe"
   ]
  },
  {
   "cell_type": "markdown",
   "metadata": {},
   "source": [
    " ### Read the sirene csv file"
   ]
  },
  {
   "cell_type": "code",
   "execution_count": 64,
   "metadata": {
    "scrolled": true
   },
   "outputs": [],
   "source": [
    "# keep only columns\n",
    "#  0   siren                          int64  \n",
    "#  2   siret                          int64  \n",
    "#  4   dateCreationEtablissement      object \n",
    "#  16   trancheEffectifsEtablissement  object \n",
    "#  20   codePostalEtablissement        float64\n",
    "#  5   codeCommuneEtablissement        object\n",
    "df_sirenes = pd.read_csv(COMPANIES_STATISTICS_FILE_PATH, usecols=[0,2,4,5,20], \\\n",
    "                         dtype={'siren': np.int64, \\\n",
    "                               'siret': np.int64, \\\n",
    "                               'dateCreationEtablissement': np.str, \\\n",
    "                                'trancheEffectifsEtablissement': np.str, \\\n",
    "                               'codeCommuneEtablissement': np.str}, na_values=['NaN', 'NN'])"
   ]
  },
  {
   "cell_type": "code",
   "execution_count": 65,
   "metadata": {},
   "outputs": [],
   "source": [
    "df_sirenes['trancheEffectifsEtablissement'].fillna('01', inplace=True)"
   ]
  },
  {
   "cell_type": "markdown",
   "metadata": {},
   "source": [
    "### Rename columns"
   ]
  },
  {
   "cell_type": "code",
   "execution_count": 70,
   "metadata": {},
   "outputs": [],
   "source": [
    "df_sirenes.columns = ['siren', 'siret', 'creation_date', 'staffing_range', 'code_insee']"
   ]
  },
  {
   "cell_type": "markdown",
   "metadata": {},
   "source": [
    "### Add a creation_year column"
   ]
  },
  {
   "cell_type": "code",
   "execution_count": 71,
   "metadata": {},
   "outputs": [],
   "source": [
    "df_sirenes['year'] = df_sirenes['creation_date'].apply(lambda d: str(d).split('-')[0])"
   ]
  },
  {
   "cell_type": "markdown",
   "metadata": {},
   "source": [
    "### Filter on Haute-Garonne communes"
   ]
  },
  {
   "cell_type": "code",
   "execution_count": 72,
   "metadata": {},
   "outputs": [],
   "source": [
    "df_sirenes['department'] = df_sirenes['code_insee'].apply(lambda x: str(x)[:-3])"
   ]
  },
  {
   "cell_type": "code",
   "execution_count": 73,
   "metadata": {},
   "outputs": [],
   "source": [
    "df_sirenes_hautegaronne = df_sirenes[df_sirenes['department'] == '31']"
   ]
  },
  {
   "cell_type": "markdown",
   "metadata": {},
   "source": [
    "### Check on siret"
   ]
  },
  {
   "cell_type": "code",
   "execution_count": 79,
   "metadata": {},
   "outputs": [],
   "source": [
    "sr_siret_groupby_count = df_sirenes_hautegaronne.groupby('siret')['siret'].count()"
   ]
  },
  {
   "cell_type": "code",
   "execution_count": 88,
   "metadata": {},
   "outputs": [],
   "source": [
    "if len(sr_siret_groupby_count[sr_siret_groupby_count > 1]) > 0:\n",
    "    print(\"WARNING: some rows have the same SIRET identifier.\")"
   ]
  },
  {
   "cell_type": "markdown",
   "metadata": {},
   "source": [
    "### Set the index"
   ]
  },
  {
   "cell_type": "code",
   "execution_count": 89,
   "metadata": {},
   "outputs": [],
   "source": [
    "df_sirenes_hautegaronne = df_sirenes_hautegaronne.set_index(['siret'])"
   ]
  },
  {
   "cell_type": "markdown",
   "metadata": {},
   "source": [
    "### Save the dataframe"
   ]
  },
  {
   "cell_type": "code",
   "execution_count": 91,
   "metadata": {},
   "outputs": [
    {
     "name": "stdout",
     "output_type": "stream",
     "text": [
      "df_sirenes: 598978 companies\n"
     ]
    }
   ],
   "source": [
    "df_sirenes_hautegaronne.to_csv(PREPARED_SIRENES_HAUTEGARONNE_FILE_PATH)\n",
    "print(\"df_sirenes_hautegaronne: {} companies\".format(len(df_sirenes_hautegaronne.index)))"
   ]
  },
  {
   "cell_type": "code",
   "execution_count": null,
   "metadata": {},
   "outputs": [],
   "source": []
  }
 ],
 "metadata": {
  "kernelspec": {
   "display_name": "Python 3",
   "language": "python",
   "name": "python3"
  },
  "language_info": {
   "codemirror_mode": {
    "name": "ipython",
    "version": 3
   },
   "file_extension": ".py",
   "mimetype": "text/x-python",
   "name": "python",
   "nbconvert_exporter": "python",
   "pygments_lexer": "ipython3",
   "version": "3.6.8"
  }
 },
 "nbformat": 4,
 "nbformat_minor": 4
}
