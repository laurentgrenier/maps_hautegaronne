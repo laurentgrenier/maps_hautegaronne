{
 "cells": [
  {
   "cell_type": "markdown",
   "metadata": {},
   "source": [
    "# Prepare Insee staffing ranges"
   ]
  },
  {
   "cell_type": "markdown",
   "metadata": {},
   "source": [
    "## Imports"
   ]
  },
  {
   "cell_type": "code",
   "execution_count": 4,
   "metadata": {},
   "outputs": [
    {
     "data": {
      "text/html": [
       "<style>.container { width:1280px !important; }</style>"
      ],
      "text/plain": [
       "<IPython.core.display.HTML object>"
      ]
     },
     "metadata": {},
     "output_type": "display_data"
    }
   ],
   "source": [
    "%run \"../config/notebook.ipynb\"\n",
    "%run \"../config/files.ipynb\"\n",
    "%run \"../utils/stop_execution.ipynb\"\n",
    "\n",
    "import pandas as pd"
   ]
  },
  {
   "cell_type": "markdown",
   "metadata": {},
   "source": [
    "## Read from cache"
   ]
  },
  {
   "cell_type": "code",
   "execution_count": 5,
   "metadata": {},
   "outputs": [
    {
     "name": "stdout",
     "output_type": "stream",
     "text": [
      "(from cache) df_staffing_ranges: 15 ranges\n"
     ]
    }
   ],
   "source": [
    "if 'FROM_CACHE' in locals() or 'FROM_CACHE' in globals():\n",
    "    if FROM_CACHE:\n",
    "        df_staffing_ranges = pd.read_csv(PREPARED_INSEE_STAFFING_RANGES_FILE_PATH, index_col='code')\n",
    "        print(\"(from cache) df_staffing_ranges: {} staffing ranges\".format(len(df_staffing_ranges.index)))        \n",
    "        raise StopExecution"
   ]
  },
  {
   "cell_type": "markdown",
   "metadata": {},
   "source": [
    "## Create the Insee staffing ranges dataframe"
   ]
  },
  {
   "cell_type": "markdown",
   "metadata": {},
   "source": [
    " ### Build the json"
   ]
  },
  {
   "cell_type": "code",
   "execution_count": 13,
   "metadata": {},
   "outputs": [],
   "source": [
    "staffing_ranges = [{'code':'00', 'from':0}, \\\n",
    "                      {'code':'01', 'from':1}, \\\n",
    "                      {'code':'02', 'from':3}, \\\n",
    "                      {'code':'03', 'from':6}, \\\n",
    "                      {'code':'11', 'from':10}, \\\n",
    "                      {'code':'12', 'from':20}, \\\n",
    "                      {'code':'21', 'from':50}, \\\n",
    "                      {'code':'22', 'from':100}, \\\n",
    "                      {'code':'31', 'from':200}, \\\n",
    "                      {'code':'32', 'from':250}, \\\n",
    "                      {'code':'41', 'from':500}, \\\n",
    "                      {'code':'42', 'from':1000}, \\\n",
    "                      {'code':'51', 'from':2000}, \\\n",
    "                      {'code':'52', 'from':5000}, \\\n",
    "                      {'code':'53', 'from':10000}]"
   ]
  },
  {
   "cell_type": "markdown",
   "metadata": {},
   "source": [
    "### Create the dataframe"
   ]
  },
  {
   "cell_type": "code",
   "execution_count": 14,
   "metadata": {},
   "outputs": [],
   "source": [
    "df_staffing_ranges = pd.DataFrame(staffing_ranges)"
   ]
  },
  {
   "cell_type": "markdown",
   "metadata": {},
   "source": [
    "### Set the index"
   ]
  },
  {
   "cell_type": "code",
   "execution_count": 15,
   "metadata": {},
   "outputs": [],
   "source": [
    "df_staffing_ranges = df_staffing_ranges.set_index('code') "
   ]
  },
  {
   "cell_type": "markdown",
   "metadata": {},
   "source": [
    "## Persist in a cache"
   ]
  },
  {
   "cell_type": "code",
   "execution_count": 16,
   "metadata": {},
   "outputs": [
    {
     "name": "stdout",
     "output_type": "stream",
     "text": [
      "df_staffing_ranges: 15 ranges\n"
     ]
    }
   ],
   "source": [
    "df_staffing_ranges.to_csv(PREPARED_INSEE_STAFFING_RANGES_FILE_PATH)\n",
    "print(\"df_staffing_ranges: {} ranges\".format(len(df_staffing_ranges.index)))"
   ]
  }
 ],
 "metadata": {
  "kernelspec": {
   "display_name": "Python 3",
   "language": "python",
   "name": "python3"
  },
  "language_info": {
   "codemirror_mode": {
    "name": "ipython",
    "version": 3
   },
   "file_extension": ".py",
   "mimetype": "text/x-python",
   "name": "python",
   "nbconvert_exporter": "python",
   "pygments_lexer": "ipython3",
   "version": "3.6.8"
  }
 },
 "nbformat": 4,
 "nbformat_minor": 4
}
