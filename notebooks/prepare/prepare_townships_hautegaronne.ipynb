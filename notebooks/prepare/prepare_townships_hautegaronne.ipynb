{
 "cells": [
  {
   "cell_type": "markdown",
   "metadata": {},
   "source": [
    "# Prepare townships Haute-Garonne"
   ]
  },
  {
   "cell_type": "markdown",
   "metadata": {},
   "source": [
    "## Imports"
   ]
  },
  {
   "cell_type": "code",
   "execution_count": 30,
   "metadata": {},
   "outputs": [
    {
     "data": {
      "text/html": [
       "<style>.container { width:1280px !important; }</style>"
      ],
      "text/plain": [
       "<IPython.core.display.HTML object>"
      ]
     },
     "metadata": {},
     "output_type": "display_data"
    }
   ],
   "source": [
    "%run \"../config/notebook.ipynb\"\n",
    "%run \"../config/files.ipynb\"\n",
    "%run \"../utils/stop_execution.ipynb\"\n",
    "\n",
    "import pandas as pd"
   ]
  },
  {
   "cell_type": "markdown",
   "metadata": {},
   "source": [
    "## Read from cache"
   ]
  },
  {
   "cell_type": "code",
   "execution_count": 31,
   "metadata": {},
   "outputs": [],
   "source": [
    "if 'FROM_CACHE' in locals() or 'FROM_CACHE' in globals():\n",
    "    if FROM_CACHE:\n",
    "        df_hautegaronne_townships = pd.read_csv(PREPARED_HAUTEGARONNE_TOWNSHIPS_FILE_PATH, index_col='code_insee')\n",
    "        print(\"(from cache) df_hautegaronne_townships: {} townships entries\".format(len(df_hautegaronne_townships.index)))        \n",
    "        raise StopExecution"
   ]
  },
  {
   "cell_type": "markdown",
   "metadata": {},
   "source": [
    "## Create the townships dataframe"
   ]
  },
  {
   "cell_type": "markdown",
   "metadata": {},
   "source": [
    " ### Read the townships csv file"
   ]
  },
  {
   "cell_type": "code",
   "execution_count": 54,
   "metadata": {},
   "outputs": [],
   "source": [
    "# df_communes = pd.read_excel(COMMUNES_STATISTICS_FILE_PATH, skiprows=3, header=1)\n",
    "df_townships = pd.read_csv(TOWNSHIPS_LIST_FILE_PATH, sep=';')"
   ]
  },
  {
   "cell_type": "markdown",
   "metadata": {},
   "source": [
    "### Row filter on department"
   ]
  },
  {
   "cell_type": "code",
   "execution_count": 59,
   "metadata": {},
   "outputs": [],
   "source": [
    "def is_hautegaronne(postalcode):\n",
    "    spostalcode = str(postalcode)\n",
    "    return (len(spostalcode) == 5) & (spostalcode[:2] == '31')\n",
    "        \n",
    "# df_communes_haute_garonne = df_communes[df_communes['Département'] == '31']\n",
    "df_hautegaronne_townships = df_townships[list(df_townships['Code_postal'].apply(is_hautegaronne))]"
   ]
  },
  {
   "cell_type": "markdown",
   "metadata": {},
   "source": [
    "### Filter kept columns"
   ]
  },
  {
   "cell_type": "code",
   "execution_count": 60,
   "metadata": {},
   "outputs": [],
   "source": [
    "df_hautegaronne_townships = df_hautegaronne_townships[['Code_commune_INSEE', 'Nom_commune']]\n",
    "df_hautegaronne_townships.columns = ['code_insee', 'name']\n",
    "df_hautegaronne_townships = df_hautegaronne_townships.set_index('code_insee')"
   ]
  },
  {
   "cell_type": "code",
   "execution_count": 62,
   "metadata": {},
   "outputs": [],
   "source": [
    "df_hautegaronne_townships.drop_duplicates(keep = False, inplace = True) "
   ]
  },
  {
   "cell_type": "markdown",
   "metadata": {},
   "source": [
    "## Persist"
   ]
  },
  {
   "cell_type": "code",
   "execution_count": 64,
   "metadata": {},
   "outputs": [
    {
     "name": "stdout",
     "output_type": "stream",
     "text": [
      "df_hautegaronne_townships: 578 townships entries\n"
     ]
    }
   ],
   "source": [
    "df_hautegaronne_townships.to_csv(PREPARED_HAUTEGARONNE_TOWNSHIPS_FILE_PATH)\n",
    "print(\"df_hautegaronne_townships: {} townships entries\".format(len(df_hautegaronne_townships.index)))"
   ]
  },
  {
   "cell_type": "code",
   "execution_count": null,
   "metadata": {},
   "outputs": [],
   "source": []
  }
 ],
 "metadata": {
  "kernelspec": {
   "display_name": "Python 3",
   "language": "python",
   "name": "python3"
  },
  "language_info": {
   "codemirror_mode": {
    "name": "ipython",
    "version": 3
   },
   "file_extension": ".py",
   "mimetype": "text/x-python",
   "name": "python",
   "nbconvert_exporter": "python",
   "pygments_lexer": "ipython3",
   "version": "3.6.8"
  }
 },
 "nbformat": 4,
 "nbformat_minor": 4
}
