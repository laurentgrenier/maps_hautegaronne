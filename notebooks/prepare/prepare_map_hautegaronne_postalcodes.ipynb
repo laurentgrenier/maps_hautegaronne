{
 "cells": [
  {
   "cell_type": "markdown",
   "metadata": {},
   "source": [
    "# Prepare map Haute-Garonne postalcodes"
   ]
  },
  {
   "cell_type": "markdown",
   "metadata": {},
   "source": [
    "## Imports"
   ]
  },
  {
   "cell_type": "code",
   "execution_count": 3,
   "metadata": {},
   "outputs": [
    {
     "data": {
      "text/html": [
       "<style>.container { width:1280px !important; }</style>"
      ],
      "text/plain": [
       "<IPython.core.display.HTML object>"
      ]
     },
     "metadata": {},
     "output_type": "display_data"
    }
   ],
   "source": [
    "%run \"../config/notebook.ipynb\"\n",
    "%run \"../config/files.ipynb\"\n",
    "%run \"../utils/stop_execution.ipynb\"\n",
    "import geopandas as gpd"
   ]
  },
  {
   "cell_type": "markdown",
   "metadata": {},
   "source": [
    "## Read from cache"
   ]
  },
  {
   "cell_type": "code",
   "execution_count": 4,
   "metadata": {},
   "outputs": [],
   "source": [
    "if 'FROM_CACHE' in locals() or 'FROM_CACHE' in globals():\n",
    "    if FROM_CACHE:\n",
    "        gdf_hautegaronne_postalcodes = pd.read_csv(PREPARED_MAP_HAUTEGARONNE_POSTALCODES_FILE_PATH)\n",
    "        print(\"(from cache) gdf_hautegaronne_postalcodes: {} postalcodes\".format(len(gdf_hautegaronne_postalcodes.index)))        \n",
    "        raise StopExecution"
   ]
  },
  {
   "cell_type": "markdown",
   "metadata": {},
   "source": [
    "## Create the Haute-Garonne postalcodes geodataframe"
   ]
  },
  {
   "cell_type": "markdown",
   "metadata": {},
   "source": [
    "### Read the basemap"
   ]
  },
  {
   "cell_type": "code",
   "execution_count": 5,
   "metadata": {},
   "outputs": [],
   "source": [
    "gdf_france_postalcodes = gpd.read_file(FRANCE_POSTALCODES_BASEMAP_FILE_PATH)"
   ]
  },
  {
   "cell_type": "markdown",
   "metadata": {},
   "source": [
    "### Filter on Haute-Garonne department"
   ]
  },
  {
   "cell_type": "code",
   "execution_count": 6,
   "metadata": {},
   "outputs": [],
   "source": [
    "filter_dep_haute_garonne = gdf_france_postalcodes['DEP'] == '31'\n",
    "gdf_hautegaronne_postalcodes = gdf_france_postalcodes[filter_dep_haute_garonne]"
   ]
  },
  {
   "cell_type": "markdown",
   "metadata": {},
   "source": [
    "## Persist in a cache"
   ]
  },
  {
   "cell_type": "code",
   "execution_count": 7,
   "metadata": {},
   "outputs": [
    {
     "name": "stdout",
     "output_type": "stream",
     "text": [
      "gdf_hautegaronne_postalcodes: 70 postalcodes\n"
     ]
    }
   ],
   "source": [
    "gdf_hautegaronne_postalcodes.to_csv(PREPARED_MAP_HAUTEGARONNE_POSTALCODES_FILE_PATH)\n",
    "print(\"gdf_hautegaronne_postalcodes: {} postalcodes\".format(len(gdf_hautegaronne_postalcodes.index)))"
   ]
  },
  {
   "cell_type": "code",
   "execution_count": null,
   "metadata": {},
   "outputs": [],
   "source": []
  }
 ],
 "metadata": {
  "kernelspec": {
   "display_name": "Python 3",
   "language": "python",
   "name": "python3"
  },
  "language_info": {
   "codemirror_mode": {
    "name": "ipython",
    "version": 3
   },
   "file_extension": ".py",
   "mimetype": "text/x-python",
   "name": "python",
   "nbconvert_exporter": "python",
   "pygments_lexer": "ipython3",
   "version": "3.6.8"
  }
 },
 "nbformat": 4,
 "nbformat_minor": 4
}
