{
 "cells": [
  {
   "cell_type": "code",
   "execution_count": 1,
   "metadata": {},
   "outputs": [],
   "source": [
    "import os \n",
    "\n",
    "DATA_ROOT_FOLDER = \"/media/laurent/backup/data/\"\n",
    "\n",
    "TERRITORIAL_ROOT_FOLDER = \"/media/laurent/backup/data/territorial/\"\n",
    "MAPS_ROOT_FOLDER = \"/media/laurent/backup/data/maps/\"\n",
    "\n",
    "# IMAGES\n",
    "IMAGE_198X = os.path.join(DATA_ROOT_FOLDER, \"images\", \"198x.png\")\n",
    "IMAGE_WARNING = os.path.join(DATA_ROOT_FOLDER, \"images\", \"warning.png\")\n",
    "\n",
    "# SOURCE FILES PATH\n",
    "COMPANIES_STATISTICS_FILE_PATH = os.path.join(DATA_ROOT_FOLDER, \"companies\", \"StockEtablissement_utf8.csv\")\n",
    "TOWNSHIPS_LIST_FILE_PATH = os.path.join(TERRITORIAL_ROOT_FOLDER, \"france\", \"france_postalcodes.csv\")\n",
    "COMMUNES_STATISTICS_FILE_PATH = os.path.join(DATA_ROOT_FOLDER, \"companies\", \"table-appartenance-geo-communes-20.xlsx\")\n",
    "COMPANIES_TINY_STATISTICS_FILE_PATH = os.path.join(DATA_ROOT_FOLDER, \"companies\", \"companies_tiny_statistics.csv\")\n",
    "ELECTRIC_STATISTICS_FILE_PATH = os.path.join(DATA_ROOT_FOLDER, \"electricconsumption\", \"consommation-electrique-par-secteur-dactivite-departement.csv\")\n",
    "\n",
    "# MAPS\n",
    "FRANCE_DEPARTMENTS_BASEMAP_FILE_PATH = os.path.join(MAPS_ROOT_FOLDER, \"france/departments\", \"departements-20180101.shp\")\n",
    "FRANCE_COMPANIES_BASEMAP_FILE_PATH = os.path.join(DATA_ROOT_FOLDER, \"companies\", \"societes_immatriculees.shp\")\n",
    "FRANCE_POSTALCODES_BASEMAP_FILE_PATH = os.path.join(MAPS_ROOT_FOLDER, \"france/postalcodes\", \"codes_postaux_region.shp\")\n",
    "FRANCE_TOWNSHIP_BASEMAP_FILE_PATH = os.path.join(MAPS_ROOT_FOLDER, \"france/townships\", \"communes-20190101.json\")\n",
    "\n",
    "\n",
    "\n",
    "# PREPARED\n",
    "PREPARED_SIRENES_HAUTEGARONNE_FILE_PATH = os.path.join(DATA_ROOT_FOLDER, \".prepared_cache\", \"sirenes_hautegaronne.csv\")\n",
    "PREPARED_INSEE_STAFFING_RANGES_FILE_PATH = os.path.join(DATA_ROOT_FOLDER, \".prepared_cache\", \"insee_staffing_ranges.csv\")\n",
    "PREPARED_HAUTEGARONNE_TOWNSHIPS_FILE_PATH = os.path.join(DATA_ROOT_FOLDER, \".prepared_cache\", \"hautegaronne_townships.csv\") \n",
    "PREPARED_MAP_HAUTEGARONNE_POSTALCODES_FILE_PATH = os.path.join(DATA_ROOT_FOLDER, \".prepared_cache\", \"map_hautegaronne_postalcodes.csv\")\n",
    "PREPARED_MAP_HAUTEGARONNE_TOWNSHIPS_FILE_PATH = os.path.join(DATA_ROOT_FOLDER, \".prepared_cache\", \"map_hautegaronne_townships.csv\")"
   ]
  },
  {
   "cell_type": "code",
   "execution_count": null,
   "metadata": {},
   "outputs": [],
   "source": []
  }
 ],
 "metadata": {
  "kernelspec": {
   "display_name": "Python 3",
   "language": "python",
   "name": "python3"
  },
  "language_info": {
   "codemirror_mode": {
    "name": "ipython",
    "version": 3
   },
   "file_extension": ".py",
   "mimetype": "text/x-python",
   "name": "python",
   "nbconvert_exporter": "python",
   "pygments_lexer": "ipython3",
   "version": "3.6.8"
  }
 },
 "nbformat": 4,
 "nbformat_minor": 4
}
