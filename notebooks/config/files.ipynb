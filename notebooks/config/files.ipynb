{
 "cells": [
  {
   "cell_type": "code",
   "execution_count": 1,
   "metadata": {},
   "outputs": [],
   "source": [
    "import os \n",
    "\n",
    "DATA_ROOT_FOLDER = \"/media/laurent/backup/data/\"\n",
    "MAPS_ROOT_FOLDER = \"/media/laurent/backup/data/maps/\"\n",
    "\n",
    "COMPANIES_STATISTICS_FILE_PATH = os.path.join(DATA_ROOT_FOLDER, \"companies\", \"StockEtablissement_utf8.csv\")\n",
    "COMMUNES_STATISTICS_FILE_PATH = os.path.join(DATA_ROOT_FOLDER, \"companies\", \"table-appartenance-geo-communes-20.xlsx\")\n",
    "COMPANIES_TINY_STATISTICS_FILE_PATH = os.path.join(DATA_ROOT_FOLDER, \"companies\", \"companies_tiny_statistics.csv\")\n",
    "ELECTRIC_STATISTICS_FILE_PATH = os.path.join(DATA_ROOT_FOLDER, \"electricconsumption\", \"consommation-electrique-par-secteur-dactivite-departement.csv\")\n",
    "\n",
    "FRANCE_DEPARTMENTS_BASEMAP_FILE_PATH = os.path.join(MAPS_ROOT_FOLDER, \"france/departments\", \"departements-20180101.shp\")\n",
    "FRANCE_COMPANIES_BASEMAP_FILE_PATH = os.path.join(DATA_ROOT_FOLDER, \"companies\", \"societes_immatriculees.shp\")\n",
    "FRANCE_POSTALCODES_BASEMAP_FILE_PATH = os.path.join(MAPS_ROOT_FOLDER, \"france/postalcodes\", \"codes_postaux_region.shp\")\n",
    "\n",
    "# PREPARED\n",
    "PREPARED_SIRENES_HAUTEGARONNE_FILE_PATH = os.path.join(DATA_ROOT_FOLDER, \".prepared_cache\", \"sirenes_hautegaronne.csv\")\n",
    "PREPARED_INSEE_STAFFING_RANGES_FILE_PATH = os.path.join(DATA_ROOT_FOLDER, \".prepared_cache\", \"insee_staffing_ranges.csv\")\n",
    "PREPARED_HAUTEGARONNE_COMMUNES_FILE_PATH = os.path.join(DATA_ROOT_FOLDER, \".prepared_cache\", \"communes_hautegaronne.csv\") \n",
    "PREPARED_MAP_HAUTEGARONNE_POSTALCODES_FILE_PATH = os.path.join(DATA_ROOT_FOLDER, \".prepared_cache\", \"map_hautegaronne_postalcodes.csv\")"
   ]
  },
  {
   "cell_type": "code",
   "execution_count": null,
   "metadata": {},
   "outputs": [],
   "source": []
  }
 ],
 "metadata": {
  "kernelspec": {
   "display_name": "Python 3",
   "language": "python",
   "name": "python3"
  },
  "language_info": {
   "codemirror_mode": {
    "name": "ipython",
    "version": 3
   },
   "file_extension": ".py",
   "mimetype": "text/x-python",
   "name": "python",
   "nbconvert_exporter": "python",
   "pygments_lexer": "ipython3",
   "version": "3.6.8"
  }
 },
 "nbformat": 4,
 "nbformat_minor": 4
}
