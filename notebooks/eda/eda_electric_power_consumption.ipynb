{
 "cells": [
  {
   "cell_type": "markdown",
   "metadata": {},
   "source": [
    "# Electric power consumption EDA "
   ]
  },
  {
   "cell_type": "code",
   "execution_count": 3,
   "metadata": {},
   "outputs": [
    {
     "data": {
      "text/html": [
       "<style>.container { width:1280px !important; }</style>"
      ],
      "text/plain": [
       "<IPython.core.display.HTML object>"
      ]
     },
     "metadata": {},
     "output_type": "display_data"
    }
   ],
   "source": [
    "%run \"../config/notebook.ipynb\"\n",
    "%run \"../config/files.ipynb\"\n",
    "\n",
    "import pandas as pd\n",
    "import numpy as np"
   ]
  },
  {
   "cell_type": "markdown",
   "metadata": {},
   "source": [
    "## Load the file "
   ]
  },
  {
   "cell_type": "code",
   "execution_count": 5,
   "metadata": {},
   "outputs": [],
   "source": [
    "df_conso = pd.read_csv(ELECTRIC_STATISTICS_FILE_PATH, sep=';', header=0, low_memory=False, dtype={'Code département':'str'})"
   ]
  },
  {
   "cell_type": "markdown",
   "metadata": {},
   "source": [
    "## Extract some basic informations"
   ]
  },
  {
   "cell_type": "markdown",
   "metadata": {},
   "source": [
    "#### Does all departments have a row for min and max years ?"
   ]
  },
  {
   "cell_type": "code",
   "execution_count": 6,
   "metadata": {},
   "outputs": [],
   "source": [
    "def check_values():\n",
    "    years = df_conso['Année'].unique()\n",
    "    \n",
    "    starting_year = min(years)\n",
    "    ending_year = max(years)\n",
    "\n",
    "    df_conso_start = df_conso[df_conso['Année'] == starting_year]\n",
    "    df_conso_end = df_conso[df_conso['Année'] == ending_year]\n",
    "\n",
    "    print(\"The dataset start in {} with {} values and finish in {} with {} values\".format(starting_year, \\\n",
    "                                                                                          len(df_conso_start.index), \\\n",
    "                                                                                           ending_year, \\\n",
    "                                                                                         len(df_conso_end.index)))"
   ]
  },
  {
   "cell_type": "markdown",
   "metadata": {},
   "source": [
    "### Total electric consumption "
   ]
  },
  {
   "cell_type": "code",
   "execution_count": 7,
   "metadata": {},
   "outputs": [],
   "source": [
    "df_conso['conso_totale'] = df_conso['Conso totale Résidentiel (MWh)'] + \\\n",
    "df_conso['Conso totale Professionnel (MWh)'] + \\\n",
    "df_conso['Conso totale Agriculture (MWh)'] + \\\n",
    "df_conso['Conso totale Industrie (MWh)'] + \\\n",
    "df_conso['Conso totale Tertiaire (MWh)'] "
   ]
  },
  {
   "cell_type": "code",
   "execution_count": 8,
   "metadata": {},
   "outputs": [],
   "source": [
    "df_total_consumptions = df_conso.loc[:,['Code département', 'Année', 'Conso totale Résidentiel (MWh)', \\\n",
    "                                        'Conso totale Professionnel (MWh)', 'Conso totale Agriculture (MWh)', \\\n",
    "                                        'Conso totale Industrie (MWh)','Conso totale Tertiaire (MWh)','conso_totale']].astype(int)"
   ]
  },
  {
   "cell_type": "code",
   "execution_count": 9,
   "metadata": {},
   "outputs": [],
   "source": [
    "df_total_consumptions.columns = ['code_insee', 'year', 'total_residential', 'total_pro', 'total_farming', 'total_industry', 'total_tertiary', 'total']\n",
    "df_total_consumptions['code_insee'] = df_total_consumptions['code_insee'].astype('str')"
   ]
  },
  {
   "cell_type": "markdown",
   "metadata": {},
   "source": [
    "### By sites electric consumption"
   ]
  },
  {
   "cell_type": "code",
   "execution_count": 10,
   "metadata": {},
   "outputs": [],
   "source": [
    "# averages calculations\n",
    "df_conso['Conso moyenne Agriculture (MWh)'] = df_conso['Conso totale Agriculture (MWh)'] / df_conso['Nb sites Agriculture']\n",
    "df_conso['Conso moyenne Industrie (MWh)'] = df_conso['Conso totale Industrie (MWh)'] / df_conso['Nb sites Industrie']\n",
    "df_conso['Conso moyenne Tertiaire (MWh)'] = df_conso['Conso totale Tertiaire (MWh)'] / df_conso['Nb sites Tertiaire']"
   ]
  },
  {
   "cell_type": "code",
   "execution_count": 11,
   "metadata": {},
   "outputs": [],
   "source": [
    "# select only useful columns\n",
    "df_avg_consumptions = df_conso.loc[:,['Code département', 'Année', 'Conso moyenne Résidentiel (MWh)', \\\n",
    "                                        'Conso moyenne Professionnel (MWh)', 'Conso moyenne Agriculture (MWh)', \\\n",
    "                                        'Conso moyenne Industrie (MWh)','Conso moyenne Tertiaire (MWh)']]\n",
    "\n",
    "# rename columuns\n",
    "df_avg_consumptions.columns = ['code_insee', 'year', 'avg_residential', 'avg_pro', 'avg_farming', 'avg_industry', 'avg_tertiary']\n",
    "df_avg_consumptions['code_insee'] = df_avg_consumptions['code_insee'].astype('str')"
   ]
  },
  {
   "cell_type": "markdown",
   "metadata": {},
   "source": [
    "## Output"
   ]
  },
  {
   "cell_type": "code",
   "execution_count": 12,
   "metadata": {},
   "outputs": [
    {
     "name": "stdout",
     "output_type": "stream",
     "text": [
      "Availables dataframes:\n",
      "df_total_consumptions: total consumptions by department by year\n",
      "df_avg_consumptions: average consumptions by department by year\n"
     ]
    }
   ],
   "source": [
    "print(\"Availables dataframes:\")\n",
    "print(\"df_total_consumptions: total consumptions by department by year\")\n",
    "print(\"df_avg_consumptions: average consumptions by department by year\")"
   ]
  },
  {
   "cell_type": "code",
   "execution_count": 13,
   "metadata": {
    "scrolled": true
   },
   "outputs": [
    {
     "data": {
      "text/html": [
       "<div>\n",
       "<style scoped>\n",
       "    .dataframe tbody tr th:only-of-type {\n",
       "        vertical-align: middle;\n",
       "    }\n",
       "\n",
       "    .dataframe tbody tr th {\n",
       "        vertical-align: top;\n",
       "    }\n",
       "\n",
       "    .dataframe thead th {\n",
       "        text-align: right;\n",
       "    }\n",
       "</style>\n",
       "<table border=\"1\" class=\"dataframe\">\n",
       "  <thead>\n",
       "    <tr style=\"text-align: right;\">\n",
       "      <th></th>\n",
       "      <th>code_insee</th>\n",
       "      <th>year</th>\n",
       "      <th>avg_residential</th>\n",
       "      <th>avg_pro</th>\n",
       "      <th>avg_farming</th>\n",
       "      <th>avg_industry</th>\n",
       "      <th>avg_tertiary</th>\n",
       "    </tr>\n",
       "  </thead>\n",
       "  <tbody>\n",
       "    <tr>\n",
       "      <th>0</th>\n",
       "      <td>57</td>\n",
       "      <td>2017</td>\n",
       "      <td>4.919000</td>\n",
       "      <td>8.903000</td>\n",
       "      <td>245.921485</td>\n",
       "      <td>868.083116</td>\n",
       "      <td>222.639218</td>\n",
       "    </tr>\n",
       "    <tr>\n",
       "      <th>1</th>\n",
       "      <td>73</td>\n",
       "      <td>2017</td>\n",
       "      <td>4.339000</td>\n",
       "      <td>8.305000</td>\n",
       "      <td>119.842245</td>\n",
       "      <td>341.727005</td>\n",
       "      <td>210.241153</td>\n",
       "    </tr>\n",
       "    <tr>\n",
       "      <th>2</th>\n",
       "      <td>10</td>\n",
       "      <td>2017</td>\n",
       "      <td>5.142000</td>\n",
       "      <td>9.096000</td>\n",
       "      <td>117.098734</td>\n",
       "      <td>713.155898</td>\n",
       "      <td>242.785875</td>\n",
       "    </tr>\n",
       "    <tr>\n",
       "      <th>3</th>\n",
       "      <td>01</td>\n",
       "      <td>2017</td>\n",
       "      <td>5.811000</td>\n",
       "      <td>9.371000</td>\n",
       "      <td>173.624584</td>\n",
       "      <td>780.762368</td>\n",
       "      <td>235.026655</td>\n",
       "    </tr>\n",
       "    <tr>\n",
       "      <th>4</th>\n",
       "      <td>42</td>\n",
       "      <td>2017</td>\n",
       "      <td>4.073000</td>\n",
       "      <td>8.954000</td>\n",
       "      <td>115.615616</td>\n",
       "      <td>674.387635</td>\n",
       "      <td>241.485070</td>\n",
       "    </tr>\n",
       "    <tr>\n",
       "      <th>...</th>\n",
       "      <td>...</td>\n",
       "      <td>...</td>\n",
       "      <td>...</td>\n",
       "      <td>...</td>\n",
       "      <td>...</td>\n",
       "      <td>...</td>\n",
       "      <td>...</td>\n",
       "    </tr>\n",
       "    <tr>\n",
       "      <th>653</th>\n",
       "      <td>51</td>\n",
       "      <td>2012</td>\n",
       "      <td>5.256278</td>\n",
       "      <td>9.906554</td>\n",
       "      <td>83.610821</td>\n",
       "      <td>1334.669509</td>\n",
       "      <td>273.335887</td>\n",
       "    </tr>\n",
       "    <tr>\n",
       "      <th>654</th>\n",
       "      <td>18</td>\n",
       "      <td>2011</td>\n",
       "      <td>5.095337</td>\n",
       "      <td>9.159684</td>\n",
       "      <td>75.151518</td>\n",
       "      <td>626.468373</td>\n",
       "      <td>247.815824</td>\n",
       "    </tr>\n",
       "    <tr>\n",
       "      <th>655</th>\n",
       "      <td>10</td>\n",
       "      <td>2016</td>\n",
       "      <td>5.269527</td>\n",
       "      <td>9.369452</td>\n",
       "      <td>129.000305</td>\n",
       "      <td>787.267527</td>\n",
       "      <td>217.072951</td>\n",
       "    </tr>\n",
       "    <tr>\n",
       "      <th>656</th>\n",
       "      <td>04</td>\n",
       "      <td>2011</td>\n",
       "      <td>4.621716</td>\n",
       "      <td>8.947669</td>\n",
       "      <td>115.262651</td>\n",
       "      <td>416.962470</td>\n",
       "      <td>188.973693</td>\n",
       "    </tr>\n",
       "    <tr>\n",
       "      <th>657</th>\n",
       "      <td>43</td>\n",
       "      <td>2014</td>\n",
       "      <td>4.132958</td>\n",
       "      <td>7.783418</td>\n",
       "      <td>216.972296</td>\n",
       "      <td>968.484250</td>\n",
       "      <td>184.838112</td>\n",
       "    </tr>\n",
       "  </tbody>\n",
       "</table>\n",
       "<p>658 rows × 7 columns</p>\n",
       "</div>"
      ],
      "text/plain": [
       "    code_insee  year  avg_residential   avg_pro  avg_farming  avg_industry  \\\n",
       "0           57  2017         4.919000  8.903000   245.921485    868.083116   \n",
       "1           73  2017         4.339000  8.305000   119.842245    341.727005   \n",
       "2           10  2017         5.142000  9.096000   117.098734    713.155898   \n",
       "3           01  2017         5.811000  9.371000   173.624584    780.762368   \n",
       "4           42  2017         4.073000  8.954000   115.615616    674.387635   \n",
       "..         ...   ...              ...       ...          ...           ...   \n",
       "653         51  2012         5.256278  9.906554    83.610821   1334.669509   \n",
       "654         18  2011         5.095337  9.159684    75.151518    626.468373   \n",
       "655         10  2016         5.269527  9.369452   129.000305    787.267527   \n",
       "656         04  2011         4.621716  8.947669   115.262651    416.962470   \n",
       "657         43  2014         4.132958  7.783418   216.972296    968.484250   \n",
       "\n",
       "     avg_tertiary  \n",
       "0      222.639218  \n",
       "1      210.241153  \n",
       "2      242.785875  \n",
       "3      235.026655  \n",
       "4      241.485070  \n",
       "..            ...  \n",
       "653    273.335887  \n",
       "654    247.815824  \n",
       "655    217.072951  \n",
       "656    188.973693  \n",
       "657    184.838112  \n",
       "\n",
       "[658 rows x 7 columns]"
      ]
     },
     "execution_count": 13,
     "metadata": {},
     "output_type": "execute_result"
    }
   ],
   "source": [
    "df_avg_consumptions"
   ]
  }
 ],
 "metadata": {
  "kernelspec": {
   "display_name": "Python 3",
   "language": "python",
   "name": "python3"
  },
  "language_info": {
   "codemirror_mode": {
    "name": "ipython",
    "version": 3
   },
   "file_extension": ".py",
   "mimetype": "text/x-python",
   "name": "python",
   "nbconvert_exporter": "python",
   "pygments_lexer": "ipython3",
   "version": "3.6.8"
  }
 },
 "nbformat": 4,
 "nbformat_minor": 4
}
