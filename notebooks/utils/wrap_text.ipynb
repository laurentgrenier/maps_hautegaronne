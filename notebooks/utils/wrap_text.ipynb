{
 "cells": [
  {
   "cell_type": "code",
   "execution_count": null,
   "metadata": {},
   "outputs": [],
   "source": [
    "import matplotlib.text as mtext\n",
    "\n",
    "class WrapText(mtext.Text):\n",
    "    def __init__(self,\n",
    "                 x=0, y=0, text='',\n",
    "                 width=0,\n",
    "                 **kwargs):\n",
    "        mtext.Text.__init__(self,\n",
    "                 x=x, y=y, text=text,\n",
    "                 wrap=True,\n",
    "                 **kwargs)\n",
    "        self.width = width  # in screen pixels. You could do scaling first\n",
    "\n",
    "    def _get_wrap_line_width(self):\n",
    "        return self.width"
   ]
  }
 ],
 "metadata": {
  "kernelspec": {
   "display_name": "Python 3",
   "language": "python",
   "name": "python3"
  },
  "language_info": {
   "codemirror_mode": {
    "name": "ipython",
    "version": 3
   },
   "file_extension": ".py",
   "mimetype": "text/x-python",
   "name": "python",
   "nbconvert_exporter": "python",
   "pygments_lexer": "ipython3",
   "version": "3.6.8"
  }
 },
 "nbformat": 4,
 "nbformat_minor": 4
}
